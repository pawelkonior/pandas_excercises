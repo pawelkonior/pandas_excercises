{
 "cells": [
  {
   "metadata": {},
   "cell_type": "markdown",
   "source": [
    "# Comprehension\n",
    "\n",
    "\n",
    "1. List\n",
    "2. Set\n",
    "3. Dict\n",
    "4. Generator expression"
   ],
   "id": "b197e2b78d05ae20"
  },
  {
   "metadata": {
    "ExecuteTime": {
     "end_time": "2024-06-08T12:09:45.712317Z",
     "start_time": "2024-06-08T12:09:45.709540Z"
    }
   },
   "cell_type": "code",
   "source": [
    "# [item for item in iterable]\n",
    "# [item for item in iterable if condition]\n",
    "\n",
    "[x * 2 for x in range(10) if x % 2 == 0]"
   ],
   "id": "29ab18fbd3d01ebf",
   "outputs": [
    {
     "data": {
      "text/plain": [
       "[0, 4, 8, 12, 16]"
      ]
     },
     "execution_count": 3,
     "metadata": {},
     "output_type": "execute_result"
    }
   ],
   "execution_count": 3
  },
  {
   "metadata": {
    "ExecuteTime": {
     "end_time": "2024-06-08T12:10:22.415868Z",
     "start_time": "2024-06-08T12:10:22.413050Z"
    }
   },
   "cell_type": "code",
   "source": [
    "# {item for item in iterable}\n",
    "# {item for item in iterable if condition}\n",
    "\n",
    "{x * 2 for x in range(10) if x % 2 == 0}"
   ],
   "id": "c1db06697cc1a56",
   "outputs": [
    {
     "data": {
      "text/plain": [
       "{0, 4, 8, 12, 16}"
      ]
     },
     "execution_count": 4,
     "metadata": {},
     "output_type": "execute_result"
    }
   ],
   "execution_count": 4
  },
  {
   "metadata": {
    "ExecuteTime": {
     "end_time": "2024-06-08T12:12:53.607298Z",
     "start_time": "2024-06-08T12:12:53.603752Z"
    }
   },
   "cell_type": "code",
   "source": [
    "# {key: value for key, value in iterable[tuple]}\n",
    "# {key: value for key, value in iterable[tuple] if condition}\n",
    "\n",
    "{key: \"key\" for key in range(10)}"
   ],
   "id": "a1e7a21c05e3cd72",
   "outputs": [
    {
     "data": {
      "text/plain": [
       "{0: 'key',\n",
       " 1: 'key',\n",
       " 2: 'key',\n",
       " 3: 'key',\n",
       " 4: 'key',\n",
       " 5: 'key',\n",
       " 6: 'key',\n",
       " 7: 'key',\n",
       " 8: 'key',\n",
       " 9: 'key'}"
      ]
     },
     "execution_count": 8,
     "metadata": {},
     "output_type": "execute_result"
    }
   ],
   "execution_count": 8
  },
  {
   "metadata": {
    "ExecuteTime": {
     "end_time": "2024-06-08T12:12:36.969141Z",
     "start_time": "2024-06-08T12:12:36.966248Z"
    }
   },
   "cell_type": "code",
   "source": "{key: value for key, value in enumerate(range(10))}",
   "id": "1ef4616ced384691",
   "outputs": [
    {
     "data": {
      "text/plain": [
       "{0: 0, 1: 1, 2: 2, 3: 3, 4: 4, 5: 5, 6: 6, 7: 7, 8: 8, 9: 9}"
      ]
     },
     "execution_count": 6,
     "metadata": {},
     "output_type": "execute_result"
    }
   ],
   "execution_count": 6
  },
  {
   "metadata": {
    "ExecuteTime": {
     "end_time": "2024-06-08T12:13:34.183257Z",
     "start_time": "2024-06-08T12:13:34.180372Z"
    }
   },
   "cell_type": "code",
   "source": [
    "# (item for item in iterable)\n",
    "(item for item in range(10))"
   ],
   "id": "485d432842111cc5",
   "outputs": [
    {
     "data": {
      "text/plain": [
       "<generator object <genexpr> at 0x1040ae740>"
      ]
     },
     "execution_count": 9,
     "metadata": {},
     "output_type": "execute_result"
    }
   ],
   "execution_count": 9
  },
  {
   "metadata": {
    "ExecuteTime": {
     "end_time": "2024-06-08T12:13:52.505850Z",
     "start_time": "2024-06-08T12:13:52.502888Z"
    }
   },
   "cell_type": "code",
   "source": "list(item for item in range(10))",
   "id": "4540e413345c2a39",
   "outputs": [
    {
     "data": {
      "text/plain": [
       "[0, 1, 2, 3, 4, 5, 6, 7, 8, 9]"
      ]
     },
     "execution_count": 10,
     "metadata": {},
     "output_type": "execute_result"
    }
   ],
   "execution_count": 10
  },
  {
   "metadata": {
    "ExecuteTime": {
     "end_time": "2024-06-08T12:14:27.267780Z",
     "start_time": "2024-06-08T12:14:27.264239Z"
    }
   },
   "cell_type": "code",
   "source": "(x ** 2 for x in range(100000000000000000000000000000))",
   "id": "29b37aec4304d1ed",
   "outputs": [
    {
     "data": {
      "text/plain": [
       "<generator object <genexpr> at 0x104085970>"
      ]
     },
     "execution_count": 11,
     "metadata": {},
     "output_type": "execute_result"
    }
   ],
   "execution_count": 11
  },
  {
   "metadata": {
    "ExecuteTime": {
     "end_time": "2024-06-08T12:16:06.685135Z",
     "start_time": "2024-06-08T12:16:06.682512Z"
    }
   },
   "cell_type": "code",
   "source": [
    "countries = {\n",
    "    \"poland\": \"warsaw\",\n",
    "    \"brazil\": \"brazil\",\n",
    "    \"france\": \"paris\",\n",
    "}\n",
    "\n"
   ],
   "id": "ae762c0a37e7e46",
   "outputs": [],
   "execution_count": 13
  },
  {
   "metadata": {
    "ExecuteTime": {
     "end_time": "2024-06-08T12:16:39.022153Z",
     "start_time": "2024-06-08T12:16:39.020007Z"
    }
   },
   "cell_type": "code",
   "source": [
    "for x, y in countries.items():\n",
    "    print(x, y)"
   ],
   "id": "8a2ae737ff9ff53d",
   "outputs": [
    {
     "name": "stdout",
     "output_type": "stream",
     "text": [
      "poland warsaw\n",
      "brazil brazil\n",
      "france paris\n"
     ]
    }
   ],
   "execution_count": 18
  },
  {
   "metadata": {
    "ExecuteTime": {
     "end_time": "2024-06-08T12:17:12.559257Z",
     "start_time": "2024-06-08T12:17:12.556879Z"
    }
   },
   "cell_type": "code",
   "source": "data = [[1, 2], [3, 4]]",
   "id": "e52a73eb0896874e",
   "outputs": [],
   "execution_count": 20
  },
  {
   "metadata": {
    "ExecuteTime": {
     "end_time": "2024-06-08T12:17:19.370514Z",
     "start_time": "2024-06-08T12:17:19.367576Z"
    }
   },
   "cell_type": "code",
   "source": "[x for y in data for x in y]",
   "id": "a12a4d85095a3a1e",
   "outputs": [
    {
     "data": {
      "text/plain": [
       "[1, 2, 3, 4]"
      ]
     },
     "execution_count": 21,
     "metadata": {},
     "output_type": "execute_result"
    }
   ],
   "execution_count": 21
  },
  {
   "metadata": {},
   "cell_type": "code",
   "outputs": [],
   "execution_count": null,
   "source": "",
   "id": "f8d565ea5d700231"
  }
 ],
 "metadata": {
  "kernelspec": {
   "display_name": "Python 3",
   "language": "python",
   "name": "python3"
  },
  "language_info": {
   "codemirror_mode": {
    "name": "ipython",
    "version": 2
   },
   "file_extension": ".py",
   "mimetype": "text/x-python",
   "name": "python",
   "nbconvert_exporter": "python",
   "pygments_lexer": "ipython2",
   "version": "2.7.6"
  }
 },
 "nbformat": 4,
 "nbformat_minor": 5
}
