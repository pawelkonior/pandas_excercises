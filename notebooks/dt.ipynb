{
 "cells": [
  {
   "cell_type": "code",
   "id": "initial_id",
   "metadata": {
    "collapsed": true,
    "ExecuteTime": {
     "end_time": "2024-06-09T10:20:14.549145Z",
     "start_time": "2024-06-09T10:20:14.546933Z"
    }
   },
   "source": "import datetime",
   "outputs": [],
   "execution_count": 1
  },
  {
   "metadata": {
    "ExecuteTime": {
     "end_time": "2024-06-09T10:21:41.074743Z",
     "start_time": "2024-06-09T10:21:41.072761Z"
    }
   },
   "cell_type": "code",
   "source": "x = datetime.datetime.now()",
   "id": "4467463c49773219",
   "outputs": [],
   "execution_count": 3
  },
  {
   "metadata": {
    "ExecuteTime": {
     "end_time": "2024-06-09T10:22:21.154088Z",
     "start_time": "2024-06-09T10:22:21.152245Z"
    }
   },
   "cell_type": "code",
   "source": "y = datetime.datetime(2024, 5, 5)",
   "id": "3b4498547d13a187",
   "outputs": [],
   "execution_count": 4
  },
  {
   "metadata": {
    "ExecuteTime": {
     "end_time": "2024-06-09T10:23:17.247984Z",
     "start_time": "2024-06-09T10:23:17.246010Z"
    }
   },
   "cell_type": "code",
   "source": "x - y",
   "id": "766a122b784c32ac",
   "outputs": [
    {
     "data": {
      "text/plain": [
       "datetime.timedelta(days=35, seconds=44501, microseconds=73374)"
      ]
     },
     "execution_count": 7,
     "metadata": {},
     "output_type": "execute_result"
    }
   ],
   "execution_count": 7
  },
  {
   "metadata": {
    "ExecuteTime": {
     "end_time": "2024-06-09T10:24:10.011694Z",
     "start_time": "2024-06-09T10:24:10.009422Z"
    }
   },
   "cell_type": "code",
   "source": "x",
   "id": "4f268d7ee5c0140a",
   "outputs": [
    {
     "data": {
      "text/plain": [
       "datetime.datetime(2024, 6, 9, 12, 21, 41, 73374)"
      ]
     },
     "execution_count": 8,
     "metadata": {},
     "output_type": "execute_result"
    }
   ],
   "execution_count": 8
  },
  {
   "metadata": {
    "ExecuteTime": {
     "end_time": "2024-06-09T10:24:11.994497Z",
     "start_time": "2024-06-09T10:24:11.992157Z"
    }
   },
   "cell_type": "code",
   "source": "y",
   "id": "39bcbe6fbeb73fac",
   "outputs": [
    {
     "data": {
      "text/plain": [
       "datetime.datetime(2024, 5, 5, 0, 0)"
      ]
     },
     "execution_count": 9,
     "metadata": {},
     "output_type": "execute_result"
    }
   ],
   "execution_count": 9
  },
  {
   "metadata": {
    "ExecuteTime": {
     "end_time": "2024-06-09T10:26:06.260698Z",
     "start_time": "2024-06-09T10:26:06.183652Z"
    }
   },
   "cell_type": "code",
   "source": "x + y ",
   "id": "4645abef5903e913",
   "outputs": [
    {
     "ename": "TypeError",
     "evalue": "unsupported operand type(s) for +: 'datetime.datetime' and 'datetime.datetime'",
     "output_type": "error",
     "traceback": [
      "\u001B[0;31m---------------------------------------------------------------------------\u001B[0m",
      "\u001B[0;31mTypeError\u001B[0m                                 Traceback (most recent call last)",
      "Cell \u001B[0;32mIn[10], line 1\u001B[0m\n\u001B[0;32m----> 1\u001B[0m \u001B[43mx\u001B[49m\u001B[43m \u001B[49m\u001B[38;5;241;43m+\u001B[39;49m\u001B[43m \u001B[49m\u001B[43my\u001B[49m \n",
      "\u001B[0;31mTypeError\u001B[0m: unsupported operand type(s) for +: 'datetime.datetime' and 'datetime.datetime'"
     ]
    }
   ],
   "execution_count": 10
  },
  {
   "metadata": {
    "ExecuteTime": {
     "end_time": "2024-06-09T10:27:32.448056Z",
     "start_time": "2024-06-09T10:27:32.446207Z"
    }
   },
   "cell_type": "code",
   "source": "td = datetime.timedelta(days = 10)",
   "id": "6ea7f6615ca32677",
   "outputs": [],
   "execution_count": 12
  },
  {
   "metadata": {
    "ExecuteTime": {
     "end_time": "2024-06-09T10:27:38.061493Z",
     "start_time": "2024-06-09T10:27:38.057821Z"
    }
   },
   "cell_type": "code",
   "source": "x + td",
   "id": "d0775d2933fa8d5e",
   "outputs": [
    {
     "data": {
      "text/plain": [
       "datetime.datetime(2024, 6, 19, 12, 21, 41, 73374)"
      ]
     },
     "execution_count": 13,
     "metadata": {},
     "output_type": "execute_result"
    }
   ],
   "execution_count": 13
  },
  {
   "metadata": {
    "ExecuteTime": {
     "end_time": "2024-06-09T10:29:43.813270Z",
     "start_time": "2024-06-09T10:29:43.525059Z"
    }
   },
   "cell_type": "code",
   "source": [
    "import os\n",
    "import pandas as pd"
   ],
   "id": "f2d5e051766224ac",
   "outputs": [],
   "execution_count": 14
  },
  {
   "metadata": {
    "ExecuteTime": {
     "end_time": "2024-06-09T10:30:01.222780Z",
     "start_time": "2024-06-09T10:30:01.119299Z"
    }
   },
   "cell_type": "code",
   "source": [
    "ds_path = os.path.join('..', 'datasets')\n",
    "df = pd.read_csv(os.path.join(ds_path, 'ceny_produktow_cleaned.csv'), sep=';')\n",
    "df.head()"
   ],
   "id": "2ff0a99d8ceafcb8",
   "outputs": [
    {
     "data": {
      "text/plain": [
       "              province product_types currency  product_group_id  \\\n",
       "0         PODKARPACKIE           NaN       zł                 2   \n",
       "1              ŁÓDZKIE           NaN       zł                 4   \n",
       "2   KUJAWSKO-POMORSKIE           NaN       zł                 2   \n",
       "3         DOLNOŚLĄSKIE           NaN       zł                 2   \n",
       "4  WARMIŃSKO-MAZURSKIE           NaN       zł                 2   \n",
       "\n",
       "                         product_line  value     date  \\\n",
       "0  szynka wieprzowa gotowana - za 1kg  21.37   2013-3   \n",
       "1                      chleb - za 1kg    NaN   2018-2   \n",
       "2  kiszka kaszana jęczmienna - za 1kg   3.55  2019-12   \n",
       "3        kurczęta patroszone - za 1kg   6.14   2019-2   \n",
       "4            salceson Włoski - za 1kg   5.63   2002-3   \n",
       "\n",
       "                              product  \n",
       "0  szynka wieprzowa gotowana - za 1kg  \n",
       "1                      chleb - za 1kg  \n",
       "2  kiszka kaszana jęczmienna - za 1kg  \n",
       "3        kurczęta patroszone - za 1kg  \n",
       "4            salceson Włoski - za 1kg  "
      ],
      "text/html": [
       "<div>\n",
       "<style scoped>\n",
       "    .dataframe tbody tr th:only-of-type {\n",
       "        vertical-align: middle;\n",
       "    }\n",
       "\n",
       "    .dataframe tbody tr th {\n",
       "        vertical-align: top;\n",
       "    }\n",
       "\n",
       "    .dataframe thead th {\n",
       "        text-align: right;\n",
       "    }\n",
       "</style>\n",
       "<table border=\"1\" class=\"dataframe\">\n",
       "  <thead>\n",
       "    <tr style=\"text-align: right;\">\n",
       "      <th></th>\n",
       "      <th>province</th>\n",
       "      <th>product_types</th>\n",
       "      <th>currency</th>\n",
       "      <th>product_group_id</th>\n",
       "      <th>product_line</th>\n",
       "      <th>value</th>\n",
       "      <th>date</th>\n",
       "      <th>product</th>\n",
       "    </tr>\n",
       "  </thead>\n",
       "  <tbody>\n",
       "    <tr>\n",
       "      <th>0</th>\n",
       "      <td>PODKARPACKIE</td>\n",
       "      <td>NaN</td>\n",
       "      <td>zł</td>\n",
       "      <td>2</td>\n",
       "      <td>szynka wieprzowa gotowana - za 1kg</td>\n",
       "      <td>21.37</td>\n",
       "      <td>2013-3</td>\n",
       "      <td>szynka wieprzowa gotowana - za 1kg</td>\n",
       "    </tr>\n",
       "    <tr>\n",
       "      <th>1</th>\n",
       "      <td>ŁÓDZKIE</td>\n",
       "      <td>NaN</td>\n",
       "      <td>zł</td>\n",
       "      <td>4</td>\n",
       "      <td>chleb - za 1kg</td>\n",
       "      <td>NaN</td>\n",
       "      <td>2018-2</td>\n",
       "      <td>chleb - za 1kg</td>\n",
       "    </tr>\n",
       "    <tr>\n",
       "      <th>2</th>\n",
       "      <td>KUJAWSKO-POMORSKIE</td>\n",
       "      <td>NaN</td>\n",
       "      <td>zł</td>\n",
       "      <td>2</td>\n",
       "      <td>kiszka kaszana jęczmienna - za 1kg</td>\n",
       "      <td>3.55</td>\n",
       "      <td>2019-12</td>\n",
       "      <td>kiszka kaszana jęczmienna - za 1kg</td>\n",
       "    </tr>\n",
       "    <tr>\n",
       "      <th>3</th>\n",
       "      <td>DOLNOŚLĄSKIE</td>\n",
       "      <td>NaN</td>\n",
       "      <td>zł</td>\n",
       "      <td>2</td>\n",
       "      <td>kurczęta patroszone - za 1kg</td>\n",
       "      <td>6.14</td>\n",
       "      <td>2019-2</td>\n",
       "      <td>kurczęta patroszone - za 1kg</td>\n",
       "    </tr>\n",
       "    <tr>\n",
       "      <th>4</th>\n",
       "      <td>WARMIŃSKO-MAZURSKIE</td>\n",
       "      <td>NaN</td>\n",
       "      <td>zł</td>\n",
       "      <td>2</td>\n",
       "      <td>salceson Włoski - za 1kg</td>\n",
       "      <td>5.63</td>\n",
       "      <td>2002-3</td>\n",
       "      <td>salceson Włoski - za 1kg</td>\n",
       "    </tr>\n",
       "  </tbody>\n",
       "</table>\n",
       "</div>"
      ]
     },
     "execution_count": 16,
     "metadata": {},
     "output_type": "execute_result"
    }
   ],
   "execution_count": 16
  },
  {
   "metadata": {
    "ExecuteTime": {
     "end_time": "2024-06-09T10:31:02.268426Z",
     "start_time": "2024-06-09T10:31:02.265858Z"
    }
   },
   "cell_type": "code",
   "source": "df.dtypes",
   "id": "a2aa7e3ad7b22793",
   "outputs": [
    {
     "data": {
      "text/plain": [
       "province             object\n",
       "product_types        object\n",
       "currency             object\n",
       "product_group_id      int64\n",
       "product_line         object\n",
       "value               float64\n",
       "date                 object\n",
       "product              object\n",
       "dtype: object"
      ]
     },
     "execution_count": 17,
     "metadata": {},
     "output_type": "execute_result"
    }
   ],
   "execution_count": 17
  },
  {
   "metadata": {
    "ExecuteTime": {
     "end_time": "2024-06-09T10:44:03.428006Z",
     "start_time": "2024-06-09T10:44:03.416423Z"
    }
   },
   "cell_type": "code",
   "source": "df['date'] = pd.to_datetime(df['date'], format='%Y-%m')",
   "id": "e76f1049e4d0b620",
   "outputs": [],
   "execution_count": 20
  },
  {
   "metadata": {
    "ExecuteTime": {
     "end_time": "2024-06-09T10:44:10.201974Z",
     "start_time": "2024-06-09T10:44:10.198943Z"
    }
   },
   "cell_type": "code",
   "source": "df.dtypes",
   "id": "f440e4d6d729922",
   "outputs": [
    {
     "data": {
      "text/plain": [
       "province                    object\n",
       "product_types               object\n",
       "currency                    object\n",
       "product_group_id             int64\n",
       "product_line                object\n",
       "value                      float64\n",
       "date                datetime64[ns]\n",
       "product                     object\n",
       "dtype: object"
      ]
     },
     "execution_count": 21,
     "metadata": {},
     "output_type": "execute_result"
    }
   ],
   "execution_count": 21
  },
  {
   "metadata": {
    "ExecuteTime": {
     "end_time": "2024-06-09T10:49:26.155594Z",
     "start_time": "2024-06-09T10:49:26.141470Z"
    }
   },
   "cell_type": "code",
   "source": [
    "df['month'] = df['date'].dt.month\n",
    "df['quarter'] = df['date'].dt.quarter\n",
    "df['year'] = df['date'].dt.year"
   ],
   "id": "cd09b7ce441eda00",
   "outputs": [],
   "execution_count": 25
  },
  {
   "metadata": {
    "ExecuteTime": {
     "end_time": "2024-06-09T10:49:26.535552Z",
     "start_time": "2024-06-09T10:49:26.531324Z"
    }
   },
   "cell_type": "code",
   "source": "df.head()",
   "id": "de46c1fb01082ee1",
   "outputs": [
    {
     "data": {
      "text/plain": [
       "              province product_types currency  product_group_id  \\\n",
       "0         PODKARPACKIE           NaN       zł                 2   \n",
       "1              ŁÓDZKIE           NaN       zł                 4   \n",
       "2   KUJAWSKO-POMORSKIE           NaN       zł                 2   \n",
       "3         DOLNOŚLĄSKIE           NaN       zł                 2   \n",
       "4  WARMIŃSKO-MAZURSKIE           NaN       zł                 2   \n",
       "\n",
       "                         product_line  value       date  \\\n",
       "0  szynka wieprzowa gotowana - za 1kg  21.37 2013-03-01   \n",
       "1                      chleb - za 1kg    NaN 2018-02-01   \n",
       "2  kiszka kaszana jęczmienna - za 1kg   3.55 2019-12-01   \n",
       "3        kurczęta patroszone - za 1kg   6.14 2019-02-01   \n",
       "4            salceson Włoski - za 1kg   5.63 2002-03-01   \n",
       "\n",
       "                              product  month  quarter  year  \n",
       "0  szynka wieprzowa gotowana - za 1kg      3        1  2013  \n",
       "1                      chleb - za 1kg      2        1  2018  \n",
       "2  kiszka kaszana jęczmienna - za 1kg     12        4  2019  \n",
       "3        kurczęta patroszone - za 1kg      2        1  2019  \n",
       "4            salceson Włoski - za 1kg      3        1  2002  "
      ],
      "text/html": [
       "<div>\n",
       "<style scoped>\n",
       "    .dataframe tbody tr th:only-of-type {\n",
       "        vertical-align: middle;\n",
       "    }\n",
       "\n",
       "    .dataframe tbody tr th {\n",
       "        vertical-align: top;\n",
       "    }\n",
       "\n",
       "    .dataframe thead th {\n",
       "        text-align: right;\n",
       "    }\n",
       "</style>\n",
       "<table border=\"1\" class=\"dataframe\">\n",
       "  <thead>\n",
       "    <tr style=\"text-align: right;\">\n",
       "      <th></th>\n",
       "      <th>province</th>\n",
       "      <th>product_types</th>\n",
       "      <th>currency</th>\n",
       "      <th>product_group_id</th>\n",
       "      <th>product_line</th>\n",
       "      <th>value</th>\n",
       "      <th>date</th>\n",
       "      <th>product</th>\n",
       "      <th>month</th>\n",
       "      <th>quarter</th>\n",
       "      <th>year</th>\n",
       "    </tr>\n",
       "  </thead>\n",
       "  <tbody>\n",
       "    <tr>\n",
       "      <th>0</th>\n",
       "      <td>PODKARPACKIE</td>\n",
       "      <td>NaN</td>\n",
       "      <td>zł</td>\n",
       "      <td>2</td>\n",
       "      <td>szynka wieprzowa gotowana - za 1kg</td>\n",
       "      <td>21.37</td>\n",
       "      <td>2013-03-01</td>\n",
       "      <td>szynka wieprzowa gotowana - za 1kg</td>\n",
       "      <td>3</td>\n",
       "      <td>1</td>\n",
       "      <td>2013</td>\n",
       "    </tr>\n",
       "    <tr>\n",
       "      <th>1</th>\n",
       "      <td>ŁÓDZKIE</td>\n",
       "      <td>NaN</td>\n",
       "      <td>zł</td>\n",
       "      <td>4</td>\n",
       "      <td>chleb - za 1kg</td>\n",
       "      <td>NaN</td>\n",
       "      <td>2018-02-01</td>\n",
       "      <td>chleb - za 1kg</td>\n",
       "      <td>2</td>\n",
       "      <td>1</td>\n",
       "      <td>2018</td>\n",
       "    </tr>\n",
       "    <tr>\n",
       "      <th>2</th>\n",
       "      <td>KUJAWSKO-POMORSKIE</td>\n",
       "      <td>NaN</td>\n",
       "      <td>zł</td>\n",
       "      <td>2</td>\n",
       "      <td>kiszka kaszana jęczmienna - za 1kg</td>\n",
       "      <td>3.55</td>\n",
       "      <td>2019-12-01</td>\n",
       "      <td>kiszka kaszana jęczmienna - za 1kg</td>\n",
       "      <td>12</td>\n",
       "      <td>4</td>\n",
       "      <td>2019</td>\n",
       "    </tr>\n",
       "    <tr>\n",
       "      <th>3</th>\n",
       "      <td>DOLNOŚLĄSKIE</td>\n",
       "      <td>NaN</td>\n",
       "      <td>zł</td>\n",
       "      <td>2</td>\n",
       "      <td>kurczęta patroszone - za 1kg</td>\n",
       "      <td>6.14</td>\n",
       "      <td>2019-02-01</td>\n",
       "      <td>kurczęta patroszone - za 1kg</td>\n",
       "      <td>2</td>\n",
       "      <td>1</td>\n",
       "      <td>2019</td>\n",
       "    </tr>\n",
       "    <tr>\n",
       "      <th>4</th>\n",
       "      <td>WARMIŃSKO-MAZURSKIE</td>\n",
       "      <td>NaN</td>\n",
       "      <td>zł</td>\n",
       "      <td>2</td>\n",
       "      <td>salceson Włoski - za 1kg</td>\n",
       "      <td>5.63</td>\n",
       "      <td>2002-03-01</td>\n",
       "      <td>salceson Włoski - za 1kg</td>\n",
       "      <td>3</td>\n",
       "      <td>1</td>\n",
       "      <td>2002</td>\n",
       "    </tr>\n",
       "  </tbody>\n",
       "</table>\n",
       "</div>"
      ]
     },
     "execution_count": 26,
     "metadata": {},
     "output_type": "execute_result"
    }
   ],
   "execution_count": 26
  },
  {
   "metadata": {
    "ExecuteTime": {
     "end_time": "2024-06-09T10:53:04.556374Z",
     "start_time": "2024-06-09T10:53:04.306361Z"
    }
   },
   "cell_type": "code",
   "source": "df['new_date'] = df['date'].dt.strftime(\"%A/%B/%y\")",
   "id": "7958d4fc5ac4b45f",
   "outputs": [],
   "execution_count": 27
  },
  {
   "metadata": {
    "ExecuteTime": {
     "end_time": "2024-06-09T10:53:09.238632Z",
     "start_time": "2024-06-09T10:53:09.234079Z"
    }
   },
   "cell_type": "code",
   "source": "df.head()",
   "id": "d8b788559bebf7c4",
   "outputs": [
    {
     "data": {
      "text/plain": [
       "              province product_types currency  product_group_id  \\\n",
       "0         PODKARPACKIE           NaN       zł                 2   \n",
       "1              ŁÓDZKIE           NaN       zł                 4   \n",
       "2   KUJAWSKO-POMORSKIE           NaN       zł                 2   \n",
       "3         DOLNOŚLĄSKIE           NaN       zł                 2   \n",
       "4  WARMIŃSKO-MAZURSKIE           NaN       zł                 2   \n",
       "\n",
       "                         product_line  value       date  \\\n",
       "0  szynka wieprzowa gotowana - za 1kg  21.37 2013-03-01   \n",
       "1                      chleb - za 1kg    NaN 2018-02-01   \n",
       "2  kiszka kaszana jęczmienna - za 1kg   3.55 2019-12-01   \n",
       "3        kurczęta patroszone - za 1kg   6.14 2019-02-01   \n",
       "4            salceson Włoski - za 1kg   5.63 2002-03-01   \n",
       "\n",
       "                              product  month  quarter  year  \\\n",
       "0  szynka wieprzowa gotowana - za 1kg      3        1  2013   \n",
       "1                      chleb - za 1kg      2        1  2018   \n",
       "2  kiszka kaszana jęczmienna - za 1kg     12        4  2019   \n",
       "3        kurczęta patroszone - za 1kg      2        1  2019   \n",
       "4            salceson Włoski - za 1kg      3        1  2002   \n",
       "\n",
       "               new_date  \n",
       "0       Friday/March/13  \n",
       "1  Thursday/February/18  \n",
       "2    Sunday/December/19  \n",
       "3    Friday/February/19  \n",
       "4       Friday/March/02  "
      ],
      "text/html": [
       "<div>\n",
       "<style scoped>\n",
       "    .dataframe tbody tr th:only-of-type {\n",
       "        vertical-align: middle;\n",
       "    }\n",
       "\n",
       "    .dataframe tbody tr th {\n",
       "        vertical-align: top;\n",
       "    }\n",
       "\n",
       "    .dataframe thead th {\n",
       "        text-align: right;\n",
       "    }\n",
       "</style>\n",
       "<table border=\"1\" class=\"dataframe\">\n",
       "  <thead>\n",
       "    <tr style=\"text-align: right;\">\n",
       "      <th></th>\n",
       "      <th>province</th>\n",
       "      <th>product_types</th>\n",
       "      <th>currency</th>\n",
       "      <th>product_group_id</th>\n",
       "      <th>product_line</th>\n",
       "      <th>value</th>\n",
       "      <th>date</th>\n",
       "      <th>product</th>\n",
       "      <th>month</th>\n",
       "      <th>quarter</th>\n",
       "      <th>year</th>\n",
       "      <th>new_date</th>\n",
       "    </tr>\n",
       "  </thead>\n",
       "  <tbody>\n",
       "    <tr>\n",
       "      <th>0</th>\n",
       "      <td>PODKARPACKIE</td>\n",
       "      <td>NaN</td>\n",
       "      <td>zł</td>\n",
       "      <td>2</td>\n",
       "      <td>szynka wieprzowa gotowana - za 1kg</td>\n",
       "      <td>21.37</td>\n",
       "      <td>2013-03-01</td>\n",
       "      <td>szynka wieprzowa gotowana - za 1kg</td>\n",
       "      <td>3</td>\n",
       "      <td>1</td>\n",
       "      <td>2013</td>\n",
       "      <td>Friday/March/13</td>\n",
       "    </tr>\n",
       "    <tr>\n",
       "      <th>1</th>\n",
       "      <td>ŁÓDZKIE</td>\n",
       "      <td>NaN</td>\n",
       "      <td>zł</td>\n",
       "      <td>4</td>\n",
       "      <td>chleb - za 1kg</td>\n",
       "      <td>NaN</td>\n",
       "      <td>2018-02-01</td>\n",
       "      <td>chleb - za 1kg</td>\n",
       "      <td>2</td>\n",
       "      <td>1</td>\n",
       "      <td>2018</td>\n",
       "      <td>Thursday/February/18</td>\n",
       "    </tr>\n",
       "    <tr>\n",
       "      <th>2</th>\n",
       "      <td>KUJAWSKO-POMORSKIE</td>\n",
       "      <td>NaN</td>\n",
       "      <td>zł</td>\n",
       "      <td>2</td>\n",
       "      <td>kiszka kaszana jęczmienna - za 1kg</td>\n",
       "      <td>3.55</td>\n",
       "      <td>2019-12-01</td>\n",
       "      <td>kiszka kaszana jęczmienna - za 1kg</td>\n",
       "      <td>12</td>\n",
       "      <td>4</td>\n",
       "      <td>2019</td>\n",
       "      <td>Sunday/December/19</td>\n",
       "    </tr>\n",
       "    <tr>\n",
       "      <th>3</th>\n",
       "      <td>DOLNOŚLĄSKIE</td>\n",
       "      <td>NaN</td>\n",
       "      <td>zł</td>\n",
       "      <td>2</td>\n",
       "      <td>kurczęta patroszone - za 1kg</td>\n",
       "      <td>6.14</td>\n",
       "      <td>2019-02-01</td>\n",
       "      <td>kurczęta patroszone - za 1kg</td>\n",
       "      <td>2</td>\n",
       "      <td>1</td>\n",
       "      <td>2019</td>\n",
       "      <td>Friday/February/19</td>\n",
       "    </tr>\n",
       "    <tr>\n",
       "      <th>4</th>\n",
       "      <td>WARMIŃSKO-MAZURSKIE</td>\n",
       "      <td>NaN</td>\n",
       "      <td>zł</td>\n",
       "      <td>2</td>\n",
       "      <td>salceson Włoski - za 1kg</td>\n",
       "      <td>5.63</td>\n",
       "      <td>2002-03-01</td>\n",
       "      <td>salceson Włoski - za 1kg</td>\n",
       "      <td>3</td>\n",
       "      <td>1</td>\n",
       "      <td>2002</td>\n",
       "      <td>Friday/March/02</td>\n",
       "    </tr>\n",
       "  </tbody>\n",
       "</table>\n",
       "</div>"
      ]
     },
     "execution_count": 28,
     "metadata": {},
     "output_type": "execute_result"
    }
   ],
   "execution_count": 28
  },
  {
   "metadata": {
    "ExecuteTime": {
     "end_time": "2024-06-09T10:59:11.380449Z",
     "start_time": "2024-06-09T10:59:11.378480Z"
    }
   },
   "cell_type": "code",
   "source": "",
   "id": "ce337ffbe6e7dab2",
   "outputs": [],
   "execution_count": 34
  },
  {
   "metadata": {
    "ExecuteTime": {
     "end_time": "2024-06-09T11:00:57.514852Z",
     "start_time": "2024-06-09T11:00:57.407219Z"
    }
   },
   "cell_type": "code",
   "source": [
    "df = pd.read_csv(\n",
    "    os.path.join(ds_path, 'ceny_produktow_cleaned.csv'),\n",
    "    sep=';',\n",
    "    parse_dates=['date'],\n",
    "    date_format='%Y-%m'\n",
    ")"
   ],
   "id": "f68766aeffada72c",
   "outputs": [],
   "execution_count": 38
  },
  {
   "metadata": {
    "ExecuteTime": {
     "end_time": "2024-06-09T11:00:58.189679Z",
     "start_time": "2024-06-09T11:00:58.186853Z"
    }
   },
   "cell_type": "code",
   "source": "df.dtypes",
   "id": "af68b0d60d0ee9a6",
   "outputs": [
    {
     "data": {
      "text/plain": [
       "province                    object\n",
       "product_types               object\n",
       "currency                    object\n",
       "product_group_id             int64\n",
       "product_line                object\n",
       "value                      float64\n",
       "date                datetime64[ns]\n",
       "product                     object\n",
       "dtype: object"
      ]
     },
     "execution_count": 39,
     "metadata": {},
     "output_type": "execute_result"
    }
   ],
   "execution_count": 39
  },
  {
   "metadata": {
    "ExecuteTime": {
     "end_time": "2024-06-09T11:00:59.051127Z",
     "start_time": "2024-06-09T11:00:59.047202Z"
    }
   },
   "cell_type": "code",
   "source": "df.head()",
   "id": "5518d23d500aa6d7",
   "outputs": [
    {
     "data": {
      "text/plain": [
       "              province product_types currency  product_group_id  \\\n",
       "0         PODKARPACKIE           NaN       zł                 2   \n",
       "1              ŁÓDZKIE           NaN       zł                 4   \n",
       "2   KUJAWSKO-POMORSKIE           NaN       zł                 2   \n",
       "3         DOLNOŚLĄSKIE           NaN       zł                 2   \n",
       "4  WARMIŃSKO-MAZURSKIE           NaN       zł                 2   \n",
       "\n",
       "                         product_line  value       date  \\\n",
       "0  szynka wieprzowa gotowana - za 1kg  21.37 2013-03-01   \n",
       "1                      chleb - za 1kg    NaN 2018-02-01   \n",
       "2  kiszka kaszana jęczmienna - za 1kg   3.55 2019-12-01   \n",
       "3        kurczęta patroszone - za 1kg   6.14 2019-02-01   \n",
       "4            salceson Włoski - za 1kg   5.63 2002-03-01   \n",
       "\n",
       "                              product  \n",
       "0  szynka wieprzowa gotowana - za 1kg  \n",
       "1                      chleb - za 1kg  \n",
       "2  kiszka kaszana jęczmienna - za 1kg  \n",
       "3        kurczęta patroszone - za 1kg  \n",
       "4            salceson Włoski - za 1kg  "
      ],
      "text/html": [
       "<div>\n",
       "<style scoped>\n",
       "    .dataframe tbody tr th:only-of-type {\n",
       "        vertical-align: middle;\n",
       "    }\n",
       "\n",
       "    .dataframe tbody tr th {\n",
       "        vertical-align: top;\n",
       "    }\n",
       "\n",
       "    .dataframe thead th {\n",
       "        text-align: right;\n",
       "    }\n",
       "</style>\n",
       "<table border=\"1\" class=\"dataframe\">\n",
       "  <thead>\n",
       "    <tr style=\"text-align: right;\">\n",
       "      <th></th>\n",
       "      <th>province</th>\n",
       "      <th>product_types</th>\n",
       "      <th>currency</th>\n",
       "      <th>product_group_id</th>\n",
       "      <th>product_line</th>\n",
       "      <th>value</th>\n",
       "      <th>date</th>\n",
       "      <th>product</th>\n",
       "    </tr>\n",
       "  </thead>\n",
       "  <tbody>\n",
       "    <tr>\n",
       "      <th>0</th>\n",
       "      <td>PODKARPACKIE</td>\n",
       "      <td>NaN</td>\n",
       "      <td>zł</td>\n",
       "      <td>2</td>\n",
       "      <td>szynka wieprzowa gotowana - za 1kg</td>\n",
       "      <td>21.37</td>\n",
       "      <td>2013-03-01</td>\n",
       "      <td>szynka wieprzowa gotowana - za 1kg</td>\n",
       "    </tr>\n",
       "    <tr>\n",
       "      <th>1</th>\n",
       "      <td>ŁÓDZKIE</td>\n",
       "      <td>NaN</td>\n",
       "      <td>zł</td>\n",
       "      <td>4</td>\n",
       "      <td>chleb - za 1kg</td>\n",
       "      <td>NaN</td>\n",
       "      <td>2018-02-01</td>\n",
       "      <td>chleb - za 1kg</td>\n",
       "    </tr>\n",
       "    <tr>\n",
       "      <th>2</th>\n",
       "      <td>KUJAWSKO-POMORSKIE</td>\n",
       "      <td>NaN</td>\n",
       "      <td>zł</td>\n",
       "      <td>2</td>\n",
       "      <td>kiszka kaszana jęczmienna - za 1kg</td>\n",
       "      <td>3.55</td>\n",
       "      <td>2019-12-01</td>\n",
       "      <td>kiszka kaszana jęczmienna - za 1kg</td>\n",
       "    </tr>\n",
       "    <tr>\n",
       "      <th>3</th>\n",
       "      <td>DOLNOŚLĄSKIE</td>\n",
       "      <td>NaN</td>\n",
       "      <td>zł</td>\n",
       "      <td>2</td>\n",
       "      <td>kurczęta patroszone - za 1kg</td>\n",
       "      <td>6.14</td>\n",
       "      <td>2019-02-01</td>\n",
       "      <td>kurczęta patroszone - za 1kg</td>\n",
       "    </tr>\n",
       "    <tr>\n",
       "      <th>4</th>\n",
       "      <td>WARMIŃSKO-MAZURSKIE</td>\n",
       "      <td>NaN</td>\n",
       "      <td>zł</td>\n",
       "      <td>2</td>\n",
       "      <td>salceson Włoski - za 1kg</td>\n",
       "      <td>5.63</td>\n",
       "      <td>2002-03-01</td>\n",
       "      <td>salceson Włoski - za 1kg</td>\n",
       "    </tr>\n",
       "  </tbody>\n",
       "</table>\n",
       "</div>"
      ]
     },
     "execution_count": 40,
     "metadata": {},
     "output_type": "execute_result"
    }
   ],
   "execution_count": 40
  },
  {
   "metadata": {
    "ExecuteTime": {
     "end_time": "2024-06-09T11:01:58.767585Z",
     "start_time": "2024-06-09T11:01:58.754485Z"
    }
   },
   "cell_type": "code",
   "source": [
    "df['month'] = df['date'].dt.month\n",
    "df['quarter'] = df['date'].dt.quarter\n",
    "df['year'] = df['date'].dt.year"
   ],
   "id": "9e020f64d690018b",
   "outputs": [],
   "execution_count": 41
  },
  {
   "metadata": {
    "ExecuteTime": {
     "end_time": "2024-06-09T11:02:46.119175Z",
     "start_time": "2024-06-09T11:02:45.824034Z"
    }
   },
   "cell_type": "code",
   "source": "df.to_csv(os.path.join(ds_path, 'ceny_produktow_cleaned.csv'), index=False, sep=\";\")",
   "id": "f3af852eef10a97f",
   "outputs": [],
   "execution_count": 42
  },
  {
   "metadata": {
    "ExecuteTime": {
     "end_time": "2024-06-09T11:03:20.731932Z",
     "start_time": "2024-06-09T11:03:20.726988Z"
    }
   },
   "cell_type": "code",
   "source": "df",
   "id": "88903f23304f14bb",
   "outputs": [
    {
     "data": {
      "text/plain": [
       "                   province  \\\n",
       "0              PODKARPACKIE   \n",
       "1                   ŁÓDZKIE   \n",
       "2        KUJAWSKO-POMORSKIE   \n",
       "3              DOLNOŚLĄSKIE   \n",
       "4       WARMIŃSKO-MAZURSKIE   \n",
       "...                     ...   \n",
       "128498              ŚLĄSKIE   \n",
       "128499              ŚLĄSKIE   \n",
       "128500   KUJAWSKO-POMORSKIE   \n",
       "128501              ŁÓDZKIE   \n",
       "128502  WARMIŃSKO-MAZURSKIE   \n",
       "\n",
       "                                            product_types currency  \\\n",
       "0                                                     NaN       zł   \n",
       "1                                                     NaN       zł   \n",
       "2                                                     NaN       zł   \n",
       "3                                                     NaN       zł   \n",
       "4                                                     NaN       zł   \n",
       "...                                                   ...      ...   \n",
       "128498                                                NaN       zł   \n",
       "128499                                                NaN       zł   \n",
       "128500                                                NaN       zł   \n",
       "128501  cukier biały z buraków cukrowych, workowany - ...       zł   \n",
       "128502                                                NaN       zł   \n",
       "\n",
       "        product_group_id                               product_line  value  \\\n",
       "0                      2         szynka wieprzowa gotowana - za 1kg  21.37   \n",
       "1                      4                             chleb - za 1kg    NaN   \n",
       "2                      2         kiszka kaszana jęczmienna - za 1kg   3.55   \n",
       "3                      2               kurczęta patroszone - za 1kg   6.14   \n",
       "4                      2                   salceson Włoski - za 1kg   5.63   \n",
       "...                  ...                                        ...    ...   \n",
       "128498                 2        boczek wędzony z żeberkami - za 1kg  15.95   \n",
       "128499                 2         kiszka kaszana jęczmienna - za 1kg   4.50   \n",
       "128500                 2  mięso  wieprzowe (boczek surowy) - za 1kg  12.15   \n",
       "128501                 3                                        NaN   0.00   \n",
       "128502                 2  mięso wołowe bez kości (z udźca) - za 1kg  11.87   \n",
       "\n",
       "             date                                            product  month  \\\n",
       "0      2013-03-01                 szynka wieprzowa gotowana - za 1kg      3   \n",
       "1      2018-02-01                                     chleb - za 1kg      2   \n",
       "2      2019-12-01                 kiszka kaszana jęczmienna - za 1kg     12   \n",
       "3      2019-02-01                       kurczęta patroszone - za 1kg      2   \n",
       "4      2002-03-01                           salceson Włoski - za 1kg      3   \n",
       "...           ...                                                ...    ...   \n",
       "128498 2015-09-01                boczek wędzony z żeberkami - za 1kg      9   \n",
       "128499 2004-08-01                 kiszka kaszana jęczmienna - za 1kg      8   \n",
       "128500 2016-11-01          mięso  wieprzowe (boczek surowy) - za 1kg     11   \n",
       "128501 2012-05-01  cukier biały z buraków cukrowych, workowany - ...      5   \n",
       "128502 2000-11-01          mięso wołowe bez kości (z udźca) - za 1kg     11   \n",
       "\n",
       "        quarter  year  \n",
       "0             1  2013  \n",
       "1             1  2018  \n",
       "2             4  2019  \n",
       "3             1  2019  \n",
       "4             1  2002  \n",
       "...         ...   ...  \n",
       "128498        3  2015  \n",
       "128499        3  2004  \n",
       "128500        4  2016  \n",
       "128501        2  2012  \n",
       "128502        4  2000  \n",
       "\n",
       "[128503 rows x 11 columns]"
      ],
      "text/html": [
       "<div>\n",
       "<style scoped>\n",
       "    .dataframe tbody tr th:only-of-type {\n",
       "        vertical-align: middle;\n",
       "    }\n",
       "\n",
       "    .dataframe tbody tr th {\n",
       "        vertical-align: top;\n",
       "    }\n",
       "\n",
       "    .dataframe thead th {\n",
       "        text-align: right;\n",
       "    }\n",
       "</style>\n",
       "<table border=\"1\" class=\"dataframe\">\n",
       "  <thead>\n",
       "    <tr style=\"text-align: right;\">\n",
       "      <th></th>\n",
       "      <th>province</th>\n",
       "      <th>product_types</th>\n",
       "      <th>currency</th>\n",
       "      <th>product_group_id</th>\n",
       "      <th>product_line</th>\n",
       "      <th>value</th>\n",
       "      <th>date</th>\n",
       "      <th>product</th>\n",
       "      <th>month</th>\n",
       "      <th>quarter</th>\n",
       "      <th>year</th>\n",
       "    </tr>\n",
       "  </thead>\n",
       "  <tbody>\n",
       "    <tr>\n",
       "      <th>0</th>\n",
       "      <td>PODKARPACKIE</td>\n",
       "      <td>NaN</td>\n",
       "      <td>zł</td>\n",
       "      <td>2</td>\n",
       "      <td>szynka wieprzowa gotowana - za 1kg</td>\n",
       "      <td>21.37</td>\n",
       "      <td>2013-03-01</td>\n",
       "      <td>szynka wieprzowa gotowana - za 1kg</td>\n",
       "      <td>3</td>\n",
       "      <td>1</td>\n",
       "      <td>2013</td>\n",
       "    </tr>\n",
       "    <tr>\n",
       "      <th>1</th>\n",
       "      <td>ŁÓDZKIE</td>\n",
       "      <td>NaN</td>\n",
       "      <td>zł</td>\n",
       "      <td>4</td>\n",
       "      <td>chleb - za 1kg</td>\n",
       "      <td>NaN</td>\n",
       "      <td>2018-02-01</td>\n",
       "      <td>chleb - za 1kg</td>\n",
       "      <td>2</td>\n",
       "      <td>1</td>\n",
       "      <td>2018</td>\n",
       "    </tr>\n",
       "    <tr>\n",
       "      <th>2</th>\n",
       "      <td>KUJAWSKO-POMORSKIE</td>\n",
       "      <td>NaN</td>\n",
       "      <td>zł</td>\n",
       "      <td>2</td>\n",
       "      <td>kiszka kaszana jęczmienna - za 1kg</td>\n",
       "      <td>3.55</td>\n",
       "      <td>2019-12-01</td>\n",
       "      <td>kiszka kaszana jęczmienna - za 1kg</td>\n",
       "      <td>12</td>\n",
       "      <td>4</td>\n",
       "      <td>2019</td>\n",
       "    </tr>\n",
       "    <tr>\n",
       "      <th>3</th>\n",
       "      <td>DOLNOŚLĄSKIE</td>\n",
       "      <td>NaN</td>\n",
       "      <td>zł</td>\n",
       "      <td>2</td>\n",
       "      <td>kurczęta patroszone - za 1kg</td>\n",
       "      <td>6.14</td>\n",
       "      <td>2019-02-01</td>\n",
       "      <td>kurczęta patroszone - za 1kg</td>\n",
       "      <td>2</td>\n",
       "      <td>1</td>\n",
       "      <td>2019</td>\n",
       "    </tr>\n",
       "    <tr>\n",
       "      <th>4</th>\n",
       "      <td>WARMIŃSKO-MAZURSKIE</td>\n",
       "      <td>NaN</td>\n",
       "      <td>zł</td>\n",
       "      <td>2</td>\n",
       "      <td>salceson Włoski - za 1kg</td>\n",
       "      <td>5.63</td>\n",
       "      <td>2002-03-01</td>\n",
       "      <td>salceson Włoski - za 1kg</td>\n",
       "      <td>3</td>\n",
       "      <td>1</td>\n",
       "      <td>2002</td>\n",
       "    </tr>\n",
       "    <tr>\n",
       "      <th>...</th>\n",
       "      <td>...</td>\n",
       "      <td>...</td>\n",
       "      <td>...</td>\n",
       "      <td>...</td>\n",
       "      <td>...</td>\n",
       "      <td>...</td>\n",
       "      <td>...</td>\n",
       "      <td>...</td>\n",
       "      <td>...</td>\n",
       "      <td>...</td>\n",
       "      <td>...</td>\n",
       "    </tr>\n",
       "    <tr>\n",
       "      <th>128498</th>\n",
       "      <td>ŚLĄSKIE</td>\n",
       "      <td>NaN</td>\n",
       "      <td>zł</td>\n",
       "      <td>2</td>\n",
       "      <td>boczek wędzony z żeberkami - za 1kg</td>\n",
       "      <td>15.95</td>\n",
       "      <td>2015-09-01</td>\n",
       "      <td>boczek wędzony z żeberkami - za 1kg</td>\n",
       "      <td>9</td>\n",
       "      <td>3</td>\n",
       "      <td>2015</td>\n",
       "    </tr>\n",
       "    <tr>\n",
       "      <th>128499</th>\n",
       "      <td>ŚLĄSKIE</td>\n",
       "      <td>NaN</td>\n",
       "      <td>zł</td>\n",
       "      <td>2</td>\n",
       "      <td>kiszka kaszana jęczmienna - za 1kg</td>\n",
       "      <td>4.50</td>\n",
       "      <td>2004-08-01</td>\n",
       "      <td>kiszka kaszana jęczmienna - za 1kg</td>\n",
       "      <td>8</td>\n",
       "      <td>3</td>\n",
       "      <td>2004</td>\n",
       "    </tr>\n",
       "    <tr>\n",
       "      <th>128500</th>\n",
       "      <td>KUJAWSKO-POMORSKIE</td>\n",
       "      <td>NaN</td>\n",
       "      <td>zł</td>\n",
       "      <td>2</td>\n",
       "      <td>mięso  wieprzowe (boczek surowy) - za 1kg</td>\n",
       "      <td>12.15</td>\n",
       "      <td>2016-11-01</td>\n",
       "      <td>mięso  wieprzowe (boczek surowy) - za 1kg</td>\n",
       "      <td>11</td>\n",
       "      <td>4</td>\n",
       "      <td>2016</td>\n",
       "    </tr>\n",
       "    <tr>\n",
       "      <th>128501</th>\n",
       "      <td>ŁÓDZKIE</td>\n",
       "      <td>cukier biały z buraków cukrowych, workowany - ...</td>\n",
       "      <td>zł</td>\n",
       "      <td>3</td>\n",
       "      <td>NaN</td>\n",
       "      <td>0.00</td>\n",
       "      <td>2012-05-01</td>\n",
       "      <td>cukier biały z buraków cukrowych, workowany - ...</td>\n",
       "      <td>5</td>\n",
       "      <td>2</td>\n",
       "      <td>2012</td>\n",
       "    </tr>\n",
       "    <tr>\n",
       "      <th>128502</th>\n",
       "      <td>WARMIŃSKO-MAZURSKIE</td>\n",
       "      <td>NaN</td>\n",
       "      <td>zł</td>\n",
       "      <td>2</td>\n",
       "      <td>mięso wołowe bez kości (z udźca) - za 1kg</td>\n",
       "      <td>11.87</td>\n",
       "      <td>2000-11-01</td>\n",
       "      <td>mięso wołowe bez kości (z udźca) - za 1kg</td>\n",
       "      <td>11</td>\n",
       "      <td>4</td>\n",
       "      <td>2000</td>\n",
       "    </tr>\n",
       "  </tbody>\n",
       "</table>\n",
       "<p>128503 rows × 11 columns</p>\n",
       "</div>"
      ]
     },
     "execution_count": 43,
     "metadata": {},
     "output_type": "execute_result"
    }
   ],
   "execution_count": 43
  },
  {
   "metadata": {},
   "cell_type": "code",
   "outputs": [],
   "execution_count": null,
   "source": "",
   "id": "19645576c3a9637f"
  }
 ],
 "metadata": {
  "kernelspec": {
   "display_name": "Python 3",
   "language": "python",
   "name": "python3"
  },
  "language_info": {
   "codemirror_mode": {
    "name": "ipython",
    "version": 2
   },
   "file_extension": ".py",
   "mimetype": "text/x-python",
   "name": "python",
   "nbconvert_exporter": "python",
   "pygments_lexer": "ipython2",
   "version": "2.7.6"
  }
 },
 "nbformat": 4,
 "nbformat_minor": 5
}
